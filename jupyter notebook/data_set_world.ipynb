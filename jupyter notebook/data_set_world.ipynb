{
 "cells": [
  {
   "cell_type": "code",
   "execution_count": 1,
   "metadata": {},
   "outputs": [
    {
     "name": "stdout",
     "output_type": "stream",
     "text": [
      "Index(['id', 'lastUpdateTime', 'name', 'total_confirm', 'total_suspect',\n",
      "       'total_heal', 'total_dead', 'total_severe', 'total_input',\n",
      "       'today_confirm', 'today_suspect', 'today_heal', 'today_dead',\n",
      "       'today_severe', 'today_storeConfirm', 'today_input'],\n",
      "      dtype='object')\n"
     ]
    }
   ],
   "source": [
    "import pandas as pd \n",
    "import time\n",
    "import numpy as np\n",
    "\n",
    "file_name = 'today_world'+'_'+time.strftime('%Y_%m_%d',time.localtime(time.time()))+'.csv'\n",
    "world_data = pd.read_csv(file_name)\n",
    "\n",
    "print(world_data.keys())"
   ]
  },
  {
   "cell_type": "code",
   "execution_count": 2,
   "metadata": {},
   "outputs": [],
   "source": [
    "import pyecharts\n",
    "import pyecharts.options as opts\n",
    "from pyecharts.charts import Map,Page\n",
    "from pyecharts.components import Table\n",
    "from pyecharts.options import ComponentTitleOpts"
   ]
  },
  {
   "cell_type": "code",
   "execution_count": 3,
   "metadata": {},
   "outputs": [
    {
     "data": {
      "text/html": [
       "<div>\n",
       "<style scoped>\n",
       "    .dataframe tbody tr th:only-of-type {\n",
       "        vertical-align: middle;\n",
       "    }\n",
       "\n",
       "    .dataframe tbody tr th {\n",
       "        vertical-align: top;\n",
       "    }\n",
       "\n",
       "    .dataframe thead th {\n",
       "        text-align: right;\n",
       "    }\n",
       "</style>\n",
       "<table border=\"1\" class=\"dataframe\">\n",
       "  <thead>\n",
       "    <tr style=\"text-align: right;\">\n",
       "      <th></th>\n",
       "      <th>id</th>\n",
       "      <th>lastUpdateTime</th>\n",
       "      <th>name</th>\n",
       "      <th>total_confirm</th>\n",
       "      <th>total_suspect</th>\n",
       "      <th>total_heal</th>\n",
       "      <th>total_dead</th>\n",
       "      <th>total_severe</th>\n",
       "      <th>total_input</th>\n",
       "      <th>today_confirm</th>\n",
       "      <th>today_suspect</th>\n",
       "      <th>today_heal</th>\n",
       "      <th>today_dead</th>\n",
       "      <th>today_severe</th>\n",
       "      <th>today_storeConfirm</th>\n",
       "      <th>today_input</th>\n",
       "    </tr>\n",
       "  </thead>\n",
       "  <tbody>\n",
       "    <tr>\n",
       "      <th>0</th>\n",
       "      <td>9577772</td>\n",
       "      <td>2021-06-04 06:01:22</td>\n",
       "      <td>突尼斯</td>\n",
       "      <td>350487</td>\n",
       "      <td>0</td>\n",
       "      <td>307778</td>\n",
       "      <td>12839</td>\n",
       "      <td>0</td>\n",
       "      <td>0.0</td>\n",
       "      <td>1925.0</td>\n",
       "      <td>NaN</td>\n",
       "      <td>0.0</td>\n",
       "      <td>0.0</td>\n",
       "      <td>NaN</td>\n",
       "      <td>29870</td>\n",
       "      <td>NaN</td>\n",
       "    </tr>\n",
       "    <tr>\n",
       "      <th>1</th>\n",
       "      <td>9507896</td>\n",
       "      <td>2021-06-04 00:01:08</td>\n",
       "      <td>塞尔维亚</td>\n",
       "      <td>713207</td>\n",
       "      <td>0</td>\n",
       "      <td>0</td>\n",
       "      <td>6890</td>\n",
       "      <td>0</td>\n",
       "      <td>0.0</td>\n",
       "      <td>218.0</td>\n",
       "      <td>NaN</td>\n",
       "      <td>0.0</td>\n",
       "      <td>0.0</td>\n",
       "      <td>NaN</td>\n",
       "      <td>706317</td>\n",
       "      <td>NaN</td>\n",
       "    </tr>\n",
       "    <tr>\n",
       "      <th>2</th>\n",
       "      <td>0</td>\n",
       "      <td>2021-06-04 08:11:32</td>\n",
       "      <td>中国</td>\n",
       "      <td>113048</td>\n",
       "      <td>0</td>\n",
       "      <td>98928</td>\n",
       "      <td>5012</td>\n",
       "      <td>0</td>\n",
       "      <td>6090.0</td>\n",
       "      <td>1157.0</td>\n",
       "      <td>NaN</td>\n",
       "      <td>7.0</td>\n",
       "      <td>29.0</td>\n",
       "      <td>NaN</td>\n",
       "      <td>9108</td>\n",
       "      <td>9.0</td>\n",
       "    </tr>\n",
       "    <tr>\n",
       "      <th>3</th>\n",
       "      <td>1</td>\n",
       "      <td>2021-06-04 00:01:08</td>\n",
       "      <td>日本本土</td>\n",
       "      <td>755695</td>\n",
       "      <td>0</td>\n",
       "      <td>690467</td>\n",
       "      <td>13331</td>\n",
       "      <td>0</td>\n",
       "      <td>0.0</td>\n",
       "      <td>2831.0</td>\n",
       "      <td>NaN</td>\n",
       "      <td>0.0</td>\n",
       "      <td>0.0</td>\n",
       "      <td>NaN</td>\n",
       "      <td>51897</td>\n",
       "      <td>NaN</td>\n",
       "    </tr>\n",
       "    <tr>\n",
       "      <th>4</th>\n",
       "      <td>2</td>\n",
       "      <td>2021-06-04 00:01:08</td>\n",
       "      <td>泰国</td>\n",
       "      <td>169348</td>\n",
       "      <td>0</td>\n",
       "      <td>26873</td>\n",
       "      <td>1146</td>\n",
       "      <td>0</td>\n",
       "      <td>0.0</td>\n",
       "      <td>3886.0</td>\n",
       "      <td>NaN</td>\n",
       "      <td>0.0</td>\n",
       "      <td>0.0</td>\n",
       "      <td>NaN</td>\n",
       "      <td>141329</td>\n",
       "      <td>NaN</td>\n",
       "    </tr>\n",
       "  </tbody>\n",
       "</table>\n",
       "</div>"
      ],
      "text/plain": [
       "        id       lastUpdateTime  name  total_confirm  total_suspect  \\\n",
       "0  9577772  2021-06-04 06:01:22   突尼斯         350487              0   \n",
       "1  9507896  2021-06-04 00:01:08  塞尔维亚         713207              0   \n",
       "2        0  2021-06-04 08:11:32    中国         113048              0   \n",
       "3        1  2021-06-04 00:01:08  日本本土         755695              0   \n",
       "4        2  2021-06-04 00:01:08    泰国         169348              0   \n",
       "\n",
       "   total_heal  total_dead  total_severe  total_input  today_confirm  \\\n",
       "0      307778       12839             0          0.0         1925.0   \n",
       "1           0        6890             0          0.0          218.0   \n",
       "2       98928        5012             0       6090.0         1157.0   \n",
       "3      690467       13331             0          0.0         2831.0   \n",
       "4       26873        1146             0          0.0         3886.0   \n",
       "\n",
       "   today_suspect  today_heal  today_dead  today_severe  today_storeConfirm  \\\n",
       "0            NaN         0.0         0.0           NaN               29870   \n",
       "1            NaN         0.0         0.0           NaN              706317   \n",
       "2            NaN         7.0        29.0           NaN                9108   \n",
       "3            NaN         0.0         0.0           NaN               51897   \n",
       "4            NaN         0.0         0.0           NaN              141329   \n",
       "\n",
       "   today_input  \n",
       "0          NaN  \n",
       "1          NaN  \n",
       "2          9.0  \n",
       "3          NaN  \n",
       "4          NaN  "
      ]
     },
     "execution_count": 3,
     "metadata": {},
     "output_type": "execute_result"
    }
   ],
   "source": [
    "world_data['today_storeConfirm'] = world_data['total_confirm'] - world_data['total_heal'] - world_data['total_dead']\n",
    "world_data.head()"
   ]
  },
  {
   "cell_type": "code",
   "execution_count": 4,
   "metadata": {},
   "outputs": [
    {
     "data": {
      "text/html": [
       "<div>\n",
       "<style scoped>\n",
       "    .dataframe tbody tr th:only-of-type {\n",
       "        vertical-align: middle;\n",
       "    }\n",
       "\n",
       "    .dataframe tbody tr th {\n",
       "        vertical-align: top;\n",
       "    }\n",
       "\n",
       "    .dataframe thead th {\n",
       "        text-align: right;\n",
       "    }\n",
       "</style>\n",
       "<table border=\"1\" class=\"dataframe\">\n",
       "  <thead>\n",
       "    <tr style=\"text-align: right;\">\n",
       "      <th></th>\n",
       "      <th>英文</th>\n",
       "      <th>中文</th>\n",
       "    </tr>\n",
       "  </thead>\n",
       "  <tbody>\n",
       "    <tr>\n",
       "      <th>0</th>\n",
       "      <td>Singapore Rep.</td>\n",
       "      <td>新加坡</td>\n",
       "    </tr>\n",
       "    <tr>\n",
       "      <th>1</th>\n",
       "      <td>Dominican Rep.</td>\n",
       "      <td>多米尼加</td>\n",
       "    </tr>\n",
       "    <tr>\n",
       "      <th>2</th>\n",
       "      <td>Palestine</td>\n",
       "      <td>巴勒斯坦</td>\n",
       "    </tr>\n",
       "    <tr>\n",
       "      <th>3</th>\n",
       "      <td>Bahamas</td>\n",
       "      <td>巴哈马</td>\n",
       "    </tr>\n",
       "    <tr>\n",
       "      <th>4</th>\n",
       "      <td>Timor-Leste</td>\n",
       "      <td>东帝汶</td>\n",
       "    </tr>\n",
       "  </tbody>\n",
       "</table>\n",
       "</div>"
      ],
      "text/plain": [
       "               英文    中文\n",
       "0  Singapore Rep.   新加坡\n",
       "1  Dominican Rep.  多米尼加\n",
       "2       Palestine  巴勒斯坦\n",
       "3         Bahamas   巴哈马\n",
       "4     Timor-Leste   东帝汶"
      ]
     },
     "execution_count": 4,
     "metadata": {},
     "output_type": "execute_result"
    }
   ],
   "source": [
    "contry_name = pd.read_csv('china_english_name.csv')\n",
    "contry_name.head()"
   ]
  },
  {
   "cell_type": "code",
   "execution_count": 5,
   "metadata": {},
   "outputs": [
    {
     "data": {
      "text/plain": [
       "0     Tunisia\n",
       "1      Serbia\n",
       "2       China\n",
       "3       Japan\n",
       "4    Thailand\n",
       "Name: eg_name, dtype: object"
      ]
     },
     "execution_count": 5,
     "metadata": {},
     "output_type": "execute_result"
    }
   ],
   "source": [
    "world_data['eg_name'] = world_data['name'].replace(contry_name['中文'].values,contry_name['英文'].values)\n",
    "world_data['eg_name'].head()"
   ]
  },
  {
   "cell_type": "code",
   "execution_count": 6,
   "metadata": {},
   "outputs": [
    {
     "data": {
      "text/html": [
       "<div>\n",
       "<style scoped>\n",
       "    .dataframe tbody tr th:only-of-type {\n",
       "        vertical-align: middle;\n",
       "    }\n",
       "\n",
       "    .dataframe tbody tr th {\n",
       "        vertical-align: top;\n",
       "    }\n",
       "\n",
       "    .dataframe thead th {\n",
       "        text-align: right;\n",
       "    }\n",
       "</style>\n",
       "<table border=\"1\" class=\"dataframe\">\n",
       "  <thead>\n",
       "    <tr style=\"text-align: right;\">\n",
       "      <th></th>\n",
       "      <th>id</th>\n",
       "      <th>lastUpdateTime</th>\n",
       "      <th>name</th>\n",
       "      <th>total_confirm</th>\n",
       "      <th>total_suspect</th>\n",
       "      <th>total_heal</th>\n",
       "      <th>total_dead</th>\n",
       "      <th>total_severe</th>\n",
       "      <th>total_input</th>\n",
       "      <th>today_confirm</th>\n",
       "      <th>today_suspect</th>\n",
       "      <th>today_heal</th>\n",
       "      <th>today_dead</th>\n",
       "      <th>today_severe</th>\n",
       "      <th>today_storeConfirm</th>\n",
       "      <th>today_input</th>\n",
       "      <th>eg_name</th>\n",
       "    </tr>\n",
       "  </thead>\n",
       "  <tbody>\n",
       "    <tr>\n",
       "      <th>0</th>\n",
       "      <td>9577772</td>\n",
       "      <td>2021-06-04 06:01:22</td>\n",
       "      <td>突尼斯</td>\n",
       "      <td>350487</td>\n",
       "      <td>0</td>\n",
       "      <td>307778</td>\n",
       "      <td>12839</td>\n",
       "      <td>0</td>\n",
       "      <td>0.0</td>\n",
       "      <td>1925.0</td>\n",
       "      <td>NaN</td>\n",
       "      <td>0.0</td>\n",
       "      <td>0.0</td>\n",
       "      <td>NaN</td>\n",
       "      <td>29870</td>\n",
       "      <td>NaN</td>\n",
       "      <td>Tunisia</td>\n",
       "    </tr>\n",
       "    <tr>\n",
       "      <th>1</th>\n",
       "      <td>9507896</td>\n",
       "      <td>2021-06-04 00:01:08</td>\n",
       "      <td>塞尔维亚</td>\n",
       "      <td>713207</td>\n",
       "      <td>0</td>\n",
       "      <td>0</td>\n",
       "      <td>6890</td>\n",
       "      <td>0</td>\n",
       "      <td>0.0</td>\n",
       "      <td>218.0</td>\n",
       "      <td>NaN</td>\n",
       "      <td>0.0</td>\n",
       "      <td>0.0</td>\n",
       "      <td>NaN</td>\n",
       "      <td>706317</td>\n",
       "      <td>NaN</td>\n",
       "      <td>Serbia</td>\n",
       "    </tr>\n",
       "    <tr>\n",
       "      <th>2</th>\n",
       "      <td>0</td>\n",
       "      <td>2021-06-04 08:11:32</td>\n",
       "      <td>中国</td>\n",
       "      <td>113048</td>\n",
       "      <td>0</td>\n",
       "      <td>98928</td>\n",
       "      <td>5012</td>\n",
       "      <td>0</td>\n",
       "      <td>6090.0</td>\n",
       "      <td>1157.0</td>\n",
       "      <td>NaN</td>\n",
       "      <td>7.0</td>\n",
       "      <td>29.0</td>\n",
       "      <td>NaN</td>\n",
       "      <td>9108</td>\n",
       "      <td>9.0</td>\n",
       "      <td>China</td>\n",
       "    </tr>\n",
       "    <tr>\n",
       "      <th>3</th>\n",
       "      <td>1</td>\n",
       "      <td>2021-06-04 00:01:08</td>\n",
       "      <td>日本本土</td>\n",
       "      <td>755695</td>\n",
       "      <td>0</td>\n",
       "      <td>690467</td>\n",
       "      <td>13331</td>\n",
       "      <td>0</td>\n",
       "      <td>0.0</td>\n",
       "      <td>2831.0</td>\n",
       "      <td>NaN</td>\n",
       "      <td>0.0</td>\n",
       "      <td>0.0</td>\n",
       "      <td>NaN</td>\n",
       "      <td>51897</td>\n",
       "      <td>NaN</td>\n",
       "      <td>Japan</td>\n",
       "    </tr>\n",
       "    <tr>\n",
       "      <th>4</th>\n",
       "      <td>2</td>\n",
       "      <td>2021-06-04 00:01:08</td>\n",
       "      <td>泰国</td>\n",
       "      <td>169348</td>\n",
       "      <td>0</td>\n",
       "      <td>26873</td>\n",
       "      <td>1146</td>\n",
       "      <td>0</td>\n",
       "      <td>0.0</td>\n",
       "      <td>3886.0</td>\n",
       "      <td>NaN</td>\n",
       "      <td>0.0</td>\n",
       "      <td>0.0</td>\n",
       "      <td>NaN</td>\n",
       "      <td>141329</td>\n",
       "      <td>NaN</td>\n",
       "      <td>Thailand</td>\n",
       "    </tr>\n",
       "  </tbody>\n",
       "</table>\n",
       "</div>"
      ],
      "text/plain": [
       "        id       lastUpdateTime  name  total_confirm  total_suspect  \\\n",
       "0  9577772  2021-06-04 06:01:22   突尼斯         350487              0   \n",
       "1  9507896  2021-06-04 00:01:08  塞尔维亚         713207              0   \n",
       "2        0  2021-06-04 08:11:32    中国         113048              0   \n",
       "3        1  2021-06-04 00:01:08  日本本土         755695              0   \n",
       "4        2  2021-06-04 00:01:08    泰国         169348              0   \n",
       "\n",
       "   total_heal  total_dead  total_severe  total_input  today_confirm  \\\n",
       "0      307778       12839             0          0.0         1925.0   \n",
       "1           0        6890             0          0.0          218.0   \n",
       "2       98928        5012             0       6090.0         1157.0   \n",
       "3      690467       13331             0          0.0         2831.0   \n",
       "4       26873        1146             0          0.0         3886.0   \n",
       "\n",
       "   today_suspect  today_heal  today_dead  today_severe  today_storeConfirm  \\\n",
       "0            NaN         0.0         0.0           NaN               29870   \n",
       "1            NaN         0.0         0.0           NaN              706317   \n",
       "2            NaN         7.0        29.0           NaN                9108   \n",
       "3            NaN         0.0         0.0           NaN               51897   \n",
       "4            NaN         0.0         0.0           NaN              141329   \n",
       "\n",
       "   today_input   eg_name  \n",
       "0          NaN   Tunisia  \n",
       "1          NaN    Serbia  \n",
       "2          9.0     China  \n",
       "3          NaN     Japan  \n",
       "4          NaN  Thailand  "
      ]
     },
     "execution_count": 6,
     "metadata": {},
     "output_type": "execute_result"
    }
   ],
   "source": [
    "world_data.head()"
   ]
  },
  {
   "cell_type": "code",
   "execution_count": 7,
   "metadata": {},
   "outputs": [
    {
     "data": {
      "text/plain": [
       "<pyecharts.components.table.Table at 0x23e17f39eb0>"
      ]
     },
     "execution_count": 7,
     "metadata": {},
     "output_type": "execute_result"
    }
   ],
   "source": [
    "world_today_existingconfirm = world_data['today_storeConfirm'].sum()\n",
    "world_today_confirm = world_data['today_confirm'].sum()\n",
    "world_totalconfirm = world_data['total_confirm'].sum()\n",
    "world_totalheal = world_data['total_heal'].sum()\n",
    "world_totaldead = world_data['total_dead'].sum()\n",
    "\n",
    "table3 = Table()\n",
    "headers = [\"现存确诊\",\"累计确诊\",\"今日新增\",\"累计治愈\",\"累计死亡\"]\n",
    "rows=[[world_today_existingconfirm,world_totalconfirm,world_today_confirm,world_totalheal,world_totaldead]]#rows是序列类型，[[]]\n",
    "\n",
    "table3.add(headers,rows)"
   ]
  },
  {
   "cell_type": "code",
   "execution_count": 8,
   "metadata": {},
   "outputs": [
    {
     "data": {
      "text/plain": [
       "[['Tunisia', 350487],\n",
       " ['Serbia', 713207],\n",
       " ['China', 113048],\n",
       " ['Japan', 755695],\n",
       " ['Thailand', 169348],\n",
       " ['Singapore Rep.', 62145],\n",
       " ['Korea', 142157],\n",
       " ['Australia', 30137],\n",
       " ['Germany', 3701692],\n",
       " ['United States', 34169972]]"
      ]
     },
     "execution_count": 8,
     "metadata": {},
     "output_type": "execute_result"
    }
   ],
   "source": [
    "heatmap_data2 = world_data[['eg_name','total_confirm']].values.tolist()\n",
    "heatmap_data2[:10]"
   ]
  },
  {
   "cell_type": "code",
   "execution_count": 9,
   "metadata": {},
   "outputs": [
    {
     "data": {
      "text/plain": [
       "[['Tunisia', 29870],\n",
       " ['Serbia', 706317],\n",
       " ['China', 9108],\n",
       " ['Japan', 51897],\n",
       " ['Thailand', 141329],\n",
       " ['Singapore Rep.', 555],\n",
       " ['Korea', 7490],\n",
       " ['Australia', 5633],\n",
       " ['Germany', 93817],\n",
       " ['United States', 5536588]]"
      ]
     },
     "execution_count": 9,
     "metadata": {},
     "output_type": "execute_result"
    }
   ],
   "source": [
    "heatmap_data = world_data[['eg_name','today_storeConfirm']].values.tolist()\n",
    "heatmap_data[:10]"
   ]
  },
  {
   "cell_type": "code",
   "execution_count": 10,
   "metadata": {},
   "outputs": [
    {
     "data": {
      "text/plain": [
       "<pyecharts.charts.basic_charts.map.Map at 0x23e1a79d520>"
      ]
     },
     "execution_count": 10,
     "metadata": {},
     "output_type": "execute_result"
    }
   ],
   "source": [
    "map1 = Map().add(series_name='现存确诊人数',\n",
    "                data_pair=heatmap_data,\n",
    "                maptype='world',\n",
    "                is_map_symbol_show=False\n",
    "                )\n",
    "map1.set_series_opts(label_opts=opts.LabelOpts(is_show=False))\n",
    "# 设置全局配置项\n",
    "map1.set_global_opts(title_opts = opts.TitleOpts(title=\"世界各国家现存确诊人数地图\"), # 设置图标题\n",
    "                     # 设置视觉映射配置项\n",
    "                     visualmap_opts = opts.VisualMapOpts(pieces=[ # 自定义分组的分点和颜色\n",
    "                                                               {\"min\": 10000,\"color\":\"#800000\"}, # 栗色\n",
    "                                                               {\"min\": 5000, \"max\": 9999, \"color\":\"#B22222\"}, # 耐火砖\n",
    "                                                               {\"min\": 999, \"max\": 4999,\"color\":\"#CD5C5C\"}, # 印度红\n",
    "                                                               {\"min\": 100, \"max\": 999, \"color\":\"#BC8F8F\"}, # 玫瑰棕色\n",
    "                                                               {\"max\": 99, \"color\":\"#FFE4E1\"}, # 薄雾玫瑰\n",
    "                                                              ], \n",
    "                     is_piecewise = True))  # 显示分段式图例"
   ]
  },
  {
   "cell_type": "code",
   "execution_count": 11,
   "metadata": {},
   "outputs": [],
   "source": [
    "table_data1 = world_data[['name','today_confirm','today_storeConfirm','total_confirm','total_heal','total_dead']].values.tolist()\n",
    "#table_data1.sort(key = lambda x:x[1],reverse = True)，数据中存在nan值会导致排序失效，去除掉nan值\n",
    "table1_data = []\n",
    "for data in table_data1:\n",
    "    if np.isnan(data[1]) == False:#列表元素不能用data['today_confirm']，索引一定用数字\n",
    "        table1_data.append(data)\n",
    "table1_data.sort(key = lambda x:x[1],reverse=True)\n",
    "table1_data =table1_data[:10]"
   ]
  },
  {
   "cell_type": "code",
   "execution_count": 12,
   "metadata": {},
   "outputs": [
    {
     "data": {
      "text/plain": [
       "<pyecharts.components.table.Table at 0x23e1a7dff70>"
      ]
     },
     "execution_count": 12,
     "metadata": {},
     "output_type": "execute_result"
    }
   ],
   "source": [
    "table1 = Table()\n",
    "headers = [\"国家名\",\"今日新增确诊\",\"现存确诊\",\"累计确诊\",\"累计治愈\",\"累计死亡\"]\n",
    "rows = []\n",
    "for data in table1_data:\n",
    "    rows.append(data)\n",
    "table1.add(headers,rows)"
   ]
  },
  {
   "cell_type": "code",
   "execution_count": 13,
   "metadata": {},
   "outputs": [],
   "source": [
    "map2 = Map().add(series_name='累计确诊人数',\n",
    "                data_pair=heatmap_data2,\n",
    "                maptype='world',\n",
    "                is_map_symbol_show=False\n",
    "                )"
   ]
  },
  {
   "cell_type": "code",
   "execution_count": 14,
   "metadata": {},
   "outputs": [
    {
     "data": {
      "text/plain": [
       "<pyecharts.charts.basic_charts.map.Map at 0x23e1a79d3a0>"
      ]
     },
     "execution_count": 14,
     "metadata": {},
     "output_type": "execute_result"
    }
   ],
   "source": [
    "map2.set_series_opts(label_opts=opts.LabelOpts(is_show=False))\n",
    "# 设置全局配置项\n",
    "map2.set_global_opts(title_opts = opts.TitleOpts(title=\"世界各国家累计确诊人数地图\"), # 设置图标题\n",
    "                     # 设置视觉映射配置项\n",
    "                     visualmap_opts = opts.VisualMapOpts(pieces=[ # 自定义分组的分点和颜色\n",
    "                                                               {\"min\": 1000000,\"color\":\"#800000\"}, # 栗色\n",
    "                                                               {\"min\": 100000, \"max\": 999999, \"color\":\"#B22222\"}, # 耐火砖\n",
    "                                                               {\"min\": 10000, \"max\": 99999,\"color\":\"#CD5C5C\"}, # 印度红\n",
    "                                                               {\"min\": 1000, \"max\": 9999, \"color\":\"#BC8F8F\"}, # 玫瑰棕色\n",
    "                                                               {\"max\": 999, \"color\":\"#FFE4E1\"}, # 薄雾玫瑰\n",
    "                                                              ], \n",
    "                     is_piecewise = True))  # 显示分段式图例"
   ]
  },
  {
   "cell_type": "code",
   "execution_count": null,
   "metadata": {},
   "outputs": [],
   "source": []
  },
  {
   "cell_type": "code",
   "execution_count": 15,
   "metadata": {},
   "outputs": [],
   "source": [
    "table_data2 = world_data[['name','total_confirm','today_storeConfirm','today_confirm','total_heal','total_dead']].values.tolist()\n",
    "table2_data = []\n",
    "for data in table_data2:\n",
    "    if np.isnan(data[1]) == False:\n",
    "        table2_data.append(data)\n",
    "table2_data.sort(key=lambda x:x[1],reverse=True)\n",
    "table2_data = table2_data[:10]"
   ]
  },
  {
   "cell_type": "code",
   "execution_count": 16,
   "metadata": {},
   "outputs": [
    {
     "data": {
      "text/plain": [
       "<pyecharts.components.table.Table at 0x23e1a79dcd0>"
      ]
     },
     "execution_count": 16,
     "metadata": {},
     "output_type": "execute_result"
    }
   ],
   "source": [
    "table2 = Table()\n",
    "headers = [\"国家名\",\"累计确诊\",\"现存确诊\",\"今日新增确诊\",\"累计治愈\",\"累计死亡\"]\n",
    "rows = []\n",
    "for data in table2_data:\n",
    "    rows.append(data)\n",
    "table2.add(headers,rows)"
   ]
  },
  {
   "cell_type": "code",
   "execution_count": 17,
   "metadata": {},
   "outputs": [
    {
     "data": {
      "text/plain": [
       "'C:\\\\Users\\\\admin\\\\Desktop\\\\jupyter notebook\\\\世界疫情地图.html'"
      ]
     },
     "execution_count": 17,
     "metadata": {},
     "output_type": "execute_result"
    }
   ],
   "source": [
    "page = Page(layout=Page.SimplePageLayout)\n",
    "page.add(\n",
    "    map1,\n",
    "    table3,\n",
    "    table1,\n",
    "    map2,\n",
    "    table2,\n",
    ")\n",
    "page.render(\"世界疫情地图.html\")"
   ]
  }
 ],
 "metadata": {
  "kernelspec": {
   "display_name": "Python 3",
   "language": "python",
   "name": "python3"
  },
  "language_info": {
   "codemirror_mode": {
    "name": "ipython",
    "version": 3
   },
   "file_extension": ".py",
   "mimetype": "text/x-python",
   "name": "python",
   "nbconvert_exporter": "python",
   "pygments_lexer": "ipython3",
   "version": "3.8.5"
  }
 },
 "nbformat": 4,
 "nbformat_minor": 4
}
