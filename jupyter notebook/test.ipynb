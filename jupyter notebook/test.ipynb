{
 "cells": [
  {
   "cell_type": "code",
   "execution_count": 6,
   "metadata": {},
   "outputs": [
    {
     "name": "stdout",
     "output_type": "stream",
     "text": [
      "hello\n"
     ]
    }
   ],
   "source": [
    "print(\"hello\")"
   ]
  },
  {
   "cell_type": "code",
   "execution_count": 5,
   "metadata": {},
   "outputs": [
    {
     "data": {
      "text/plain": [
       "3"
      ]
     },
     "execution_count": 5,
     "metadata": {},
     "output_type": "execute_result"
    }
   ],
   "source": [
    "1+2"
   ]
  },
  {
   "cell_type": "markdown",
   "metadata": {},
   "source": [
    "## 命令模式\n",
    "蓝色\n",
    "编辑模式进入命令模式：Esc\n",
    "\n",
    "## 编辑模式\n",
    "绿色\n",
    "命令模式进入编辑模式：Enter"
   ]
  },
  {
   "cell_type": "code",
   "execution_count": 10,
   "metadata": {},
   "outputs": [
    {
     "data": {
      "text/plain": [
       "5050"
      ]
     },
     "execution_count": 10,
     "metadata": {},
     "output_type": "execute_result"
    }
   ],
   "source": [
    "sum(range(101))"
   ]
  },
  {
   "cell_type": "markdown",
   "metadata": {},
   "source": [
    "shift+enter：运行且进入下面的代码块\n",
    "\n",
    "ctrl+enter:运行当前代码块，并且光标停留在当前代码块\n",
    "\n",
    "dd:删除当前代码块\n",
    "\n",
    "b:在下方添加一个空代码块\n",
    "\n",
    "a：在上方添加一个代码块\n",
    "\n",
    "m: 将汇编语言代码块变成markdown代码块\n",
    "\n",
    "y:将markdown变成汇编语言代码块\n",
    "\n",
    "[python] (https://www.python.org)\n",
    "\n",
    "![图片](https://img95.699pic.com/photo/50046/5562.jpg_wh300.jpg)\n",
    "\n",
    "- 第一点\n",
    "- 第二点\n",
    " 1.\n",
    " 2.\n",
    "\n",
    "$$z=x+y$$\n",
    "$$\\frac2 {x+y}$$\n",
    "\n",
    "```python\n",
    "print(\"asa\")\n",
    "```\n",
    "标题\n",
    "# 一级标题\n",
    "## 二级标题\n",
    "### 三级标题\n",
    "**加粗**\n",
    "\n",
    "*斜体*"
   ]
  },
  {
   "cell_type": "code",
   "execution_count": null,
   "metadata": {
    "collapsed": true
   },
   "outputs": [],
   "source": [
    "print(\"sad\")"
   ]
  },
  {
   "cell_type": "code",
   "execution_count": null,
   "metadata": {
    "collapsed": true
   },
   "outputs": [],
   "source": []
  },
  {
   "cell_type": "code",
   "execution_count": null,
   "metadata": {
    "collapsed": true
   },
   "outputs": [],
   "source": [
    "squ[]"
   ]
  },
  {
   "cell_type": "code",
   "execution_count": null,
   "metadata": {
    "collapsed": true
   },
   "outputs": [],
   "source": []
  }
 ],
 "metadata": {
  "kernelspec": {
   "display_name": "Python 3",
   "language": "python",
   "name": "python3"
  },
  "language_info": {
   "codemirror_mode": {
    "name": "ipython",
    "version": 3
   },
   "file_extension": ".py",
   "mimetype": "text/x-python",
   "name": "python",
   "nbconvert_exporter": "python",
   "pygments_lexer": "ipython3",
   "version": "3.8.5"
  }
 },
 "nbformat": 4,
 "nbformat_minor": 2
}
