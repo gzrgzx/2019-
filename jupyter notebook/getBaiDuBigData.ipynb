{
 "cells": [
  {
   "cell_type": "code",
   "execution_count": 194,
   "metadata": {},
   "outputs": [],
   "source": [
    "import requests\n",
    "import pandas as pd\n",
    "import time"
   ]
  },
  {
   "cell_type": "code",
   "execution_count": 195,
   "metadata": {},
   "outputs": [],
   "source": [
    "headers = {'user_agent':'Mozilla/5.0 (Windows NT 10.0; Win64; x64) AppleWebKit/537.36 (KHTML, like Gecko) Chrome/88.0.4324.146 Safari/537.36'}\n",
    "url = 'https://huiyan.baidu.com/migration/cityrank.json?dt=city&id=420100&type=move_out&date=20200314'#这里使用json而不是jsonp，否则存在非json格式的数据，会报错\n",
    "r = requests.get(url,headers=headers)"
   ]
  },
  {
   "cell_type": "code",
   "execution_count": 196,
   "metadata": {},
   "outputs": [
    {
     "name": "stdout",
     "output_type": "stream",
     "text": [
      "<class 'str'>\n"
     ]
    }
   ],
   "source": [
    "print(type(r.text))"
   ]
  },
  {
   "cell_type": "code",
   "execution_count": 197,
   "metadata": {},
   "outputs": [
    {
     "data": {
      "text/plain": [
       "dict_keys(['errno', 'errmsg', 'data'])"
      ]
     },
     "execution_count": 197,
     "metadata": {},
     "output_type": "execute_result"
    }
   ],
   "source": [
    "import json\n",
    "data_json = json.loads(r.text)\n",
    "data_json.keys()"
   ]
  },
  {
   "cell_type": "code",
   "execution_count": 198,
   "metadata": {},
   "outputs": [
    {
     "data": {
      "text/plain": [
       "[{'city_name': '黄冈市', 'province_name': '湖北省', 'value': 21.15},\n",
       " {'city_name': '孝感市', 'province_name': '湖北省', 'value': 14.94},\n",
       " {'city_name': '咸宁市', 'province_name': '湖北省', 'value': 7.35},\n",
       " {'city_name': '荆州市', 'province_name': '湖北省', 'value': 7.14},\n",
       " {'city_name': '恩施土家族苗族自治州', 'province_name': '湖北省', 'value': 6.55}]"
      ]
     },
     "execution_count": 198,
     "metadata": {},
     "output_type": "execute_result"
    }
   ],
   "source": [
    "data = data_json['data']['list']\n",
    "data[:5]"
   ]
  },
  {
   "cell_type": "code",
   "execution_count": 199,
   "metadata": {},
   "outputs": [
    {
     "data": {
      "text/plain": [
       "dict_keys(['city_name', 'province_name', 'value'])"
      ]
     },
     "execution_count": 199,
     "metadata": {},
     "output_type": "execute_result"
    }
   ],
   "source": [
    "data[0].keys()"
   ]
  },
  {
   "cell_type": "code",
   "execution_count": 200,
   "metadata": {},
   "outputs": [
    {
     "data": {
      "text/html": [
       "<div>\n",
       "<style scoped>\n",
       "    .dataframe tbody tr th:only-of-type {\n",
       "        vertical-align: middle;\n",
       "    }\n",
       "\n",
       "    .dataframe tbody tr th {\n",
       "        vertical-align: top;\n",
       "    }\n",
       "\n",
       "    .dataframe thead th {\n",
       "        text-align: right;\n",
       "    }\n",
       "</style>\n",
       "<table border=\"1\" class=\"dataframe\">\n",
       "  <thead>\n",
       "    <tr style=\"text-align: right;\">\n",
       "      <th></th>\n",
       "      <th>city_name</th>\n",
       "      <th>province_name</th>\n",
       "      <th>value</th>\n",
       "    </tr>\n",
       "  </thead>\n",
       "  <tbody>\n",
       "    <tr>\n",
       "      <th>0</th>\n",
       "      <td>黄冈市</td>\n",
       "      <td>湖北省</td>\n",
       "      <td>21.15</td>\n",
       "    </tr>\n",
       "    <tr>\n",
       "      <th>1</th>\n",
       "      <td>孝感市</td>\n",
       "      <td>湖北省</td>\n",
       "      <td>14.94</td>\n",
       "    </tr>\n",
       "    <tr>\n",
       "      <th>2</th>\n",
       "      <td>咸宁市</td>\n",
       "      <td>湖北省</td>\n",
       "      <td>7.35</td>\n",
       "    </tr>\n",
       "    <tr>\n",
       "      <th>3</th>\n",
       "      <td>荆州市</td>\n",
       "      <td>湖北省</td>\n",
       "      <td>7.14</td>\n",
       "    </tr>\n",
       "    <tr>\n",
       "      <th>4</th>\n",
       "      <td>恩施土家族苗族自治州</td>\n",
       "      <td>湖北省</td>\n",
       "      <td>6.55</td>\n",
       "    </tr>\n",
       "  </tbody>\n",
       "</table>\n",
       "</div>"
      ],
      "text/plain": [
       "    city_name province_name  value\n",
       "0         黄冈市           湖北省  21.15\n",
       "1         孝感市           湖北省  14.94\n",
       "2         咸宁市           湖北省   7.35\n",
       "3         荆州市           湖北省   7.14\n",
       "4  恩施土家族苗族自治州           湖北省   6.55"
      ]
     },
     "execution_count": 200,
     "metadata": {},
     "output_type": "execute_result"
    }
   ],
   "source": [
    "pd.DataFrame(data).head()"
   ]
  },
  {
   "cell_type": "code",
   "execution_count": 201,
   "metadata": {},
   "outputs": [],
   "source": [
    "lastData = pd.DataFrame(data)"
   ]
  },
  {
   "cell_type": "code",
   "execution_count": 202,
   "metadata": {},
   "outputs": [],
   "source": [
    "def save_data(data,name):\n",
    "    file_name = name+'_'+time.strftime('%Y_%m_%d',time.localtime(time.time()))+'迁出数据'+'.csv'\n",
    "    data.to_csv(file_name,index=None,encoding='utf_8_sig')\n",
    "    print(file_name+'保存成功！')"
   ]
  },
  {
   "cell_type": "code",
   "execution_count": 203,
   "metadata": {},
   "outputs": [
    {
     "name": "stdout",
     "output_type": "stream",
     "text": [
      "武汉_2021_05_09迁出数据.csv保存成功！\n"
     ]
    }
   ],
   "source": [
    "save_data(lastData,'武汉')"
   ]
  },
  {
   "cell_type": "code",
   "execution_count": 204,
   "metadata": {},
   "outputs": [
    {
     "name": "stdout",
     "output_type": "stream",
     "text": [
      "{'湖北': 68.32428571428571, '河南': 5.707142857142857, '湖南': 3.540714285714286, '广东': 1.9664285714285714, '安徽': 2.310714285714286, '江西': 2.164285714285714, '江苏': 1.5400000000000003, '北京': 0.9785714285714286, '浙江': 1.1300000000000001, '山东': 1.1485714285714284, '重庆': 1.3007142857142855, '四川': 1.2942857142857138, '河北': 0.9835714285714287, '上海': 0.737857142857143, '广西': 0.8414285714285714, '贵州': 0.6042857142857142, '福建': 0.9321428571428573, '陕西': 0.7435714285714285, '山西': 0.6150000000000001, '云南': 0.5578571428571429, '甘肃': 0.3678571428571428, '海南': 0.3814285714285715, '辽宁': 0.34928571428571425, '新疆': 0.2271428571428571, '内蒙古': 0.19, '黑龙江': 0.2935714285714286, '天津': 0.16428571428571423, '吉林': 0.17785714285714285, '宁夏': 0.09071428571428573, '青海': 0.062142857142857166, '西藏': 0.019285714285714288}\n"
     ]
    },
    {
     "data": {
      "text/plain": [
       "'C:\\\\Users\\\\admin\\\\Desktop\\\\jupyter notebook\\\\武汉迁徙地图.html'"
      ]
     },
     "execution_count": 204,
     "metadata": {},
     "output_type": "execute_result"
    }
   ],
   "source": [
    "\n",
    "import requests\n",
    "import json\n",
    "import time\n",
    "from pyecharts import options as opts\n",
    "from pyecharts.charts import Geo,Timeline,Bar,Grid,Page\n",
    "from pyecharts.globals import ChartType, SymbolType,ThemeType\n",
    "from pyecharts.components import Table\n",
    "\n",
    "timeline = Timeline(\n",
    "        init_opts=opts.InitOpts(width=\"1300px\", height=\"650px\",theme=ThemeType.DARK)\n",
    "    )\n",
    "total_move_out = {}\n",
    "\n",
    "\n",
    "headers = {\n",
    "    'User-Agent':'Mozilla/5.0 (Windows NT 10.0; WOW64) AppleWebKit/537.36 (KHTML, like Gecko) Chrome/64.0.3282.204 Safari/537.36',\n",
    "}\n",
    "\n",
    "#省级数据\n",
    "base_url = 'https://huiyan.baidu.com/migration/provincerank.json?'\n",
    "\n",
    "for i in range(20200110,20200124,1):\n",
    "    if (i>20200131 and i<20200201) or (i>20200229 and i<20200301):\n",
    "        pass\n",
    "    else:\n",
    "        params = {\n",
    "            'dt': 'city',\n",
    "            'id': '420100',\n",
    "            'type': 'move_out',\n",
    "            'date': i,\n",
    "        }\n",
    "        response = requests.get(base_url,params=params,headers=headers)\n",
    "        # print(response)\n",
    "        datas = json.loads(response.text)#json字符串转换为python类型\n",
    "        # print(datas)\n",
    "        move_out = {}\n",
    "        for data in datas['data']['list']:\n",
    "            province = data['province_name'] # 所属省份\n",
    "            if '黑龙江' in province:\n",
    "                province = province[0:3]\n",
    "            elif '内蒙古' in province:\n",
    "                province = province[0:3]\n",
    "            else:\n",
    "                province = province[0:2]\n",
    "            ratio = data['value']#比例\n",
    "            move_out[province] = ratio\n",
    "            if i != 20200110:\n",
    "                total_move_out[province]+=ratio\n",
    "                \n",
    "        if i == 20200110:\n",
    "            total_move_out = move_out\n",
    "           \n",
    "            \n",
    "        data = [(i,j) for i,j in move_out.items()]\n",
    "        data_pair = [('武汉',j) for j in move_out.keys()]\n",
    "\n",
    "\n",
    "        c = (\n",
    "            Geo()\n",
    "            .add_schema(\n",
    "                maptype=\"china\",\n",
    "                itemstyle_opts=opts.ItemStyleOpts(color=\"#323c48\", border_color=\"#111\"),\n",
    "            )\n",
    "            .add(\n",
    "                \"\",\n",
    "                data,\n",
    "                type_=ChartType.EFFECT_SCATTER,\n",
    "                color = 'white',\n",
    "            )\n",
    "            .add(\n",
    "                \"geo\",\n",
    "                data_pair,\n",
    "                type_=ChartType.LINES,\n",
    "                effect_opts=opts.EffectOpts(\n",
    "                    symbol=SymbolType.ARROW, symbol_size=6\n",
    "                ),\n",
    "                linestyle_opts=opts.LineStyleOpts(curve=0.2),\n",
    "            )\n",
    "            .set_series_opts(label_opts=opts.LabelOpts(is_show=False))\n",
    "            .set_global_opts(title_opts=opts.TitleOpts(title=str(i)+\"武汉迁徙地图\",pos_left=\"200\",\n",
    "                pos_top=\"top\",))\n",
    "        )\n",
    "        \n",
    "        bar_x_data = [x for x in move_out.keys()]\n",
    "        bar_y_data = [{\"name\": i, \"value\": j} for i,j in move_out.items()]\n",
    "        bar = (\n",
    "        Bar()\n",
    "        .add_xaxis(xaxis_data=bar_x_data)\n",
    "        .add_yaxis(\n",
    "            series_name=\"\",\n",
    "            y_axis=bar_y_data,\n",
    "            label_opts=opts.LabelOpts(\n",
    "                is_show=True, position=\"right\", formatter=\"{b} : {c}\"\n",
    "            ),\n",
    "        )\n",
    "        .reversal_axis()\n",
    "        .set_global_opts(\n",
    "            xaxis_opts=opts.AxisOpts(\n",
    "                max_=100, axislabel_opts=opts.LabelOpts(is_show=False)\n",
    "            ),\n",
    "            yaxis_opts=opts.AxisOpts(axislabel_opts=opts.LabelOpts(is_show=False)),\n",
    "            tooltip_opts=opts.TooltipOpts(is_show=False),\n",
    "            visualmap_opts=opts.VisualMapOpts(\n",
    "                is_calculable=True,\n",
    "                dimension=0,\n",
    "                pos_left=\"10\",\n",
    "                pos_top=\"top\",\n",
    "                range_text=[\"High\", \"Low\"],\n",
    "                range_color=[\"lightskyblue\", \"yellow\", \"orangered\"],\n",
    "                textstyle_opts=opts.TextStyleOpts(color=\"#ddd\"),\n",
    "                min_=0,\n",
    "                max_=100,\n",
    "            ),\n",
    "        )\n",
    "        )\n",
    "        grid_chart = (\n",
    "            Grid()\n",
    "            .add(\n",
    "                bar,\n",
    "                grid_opts=opts.GridOpts(\n",
    "                    pos_left=\"10\", pos_right=\"45%\", pos_top=\"40%\", pos_bottom=\"5\"\n",
    "                ),\n",
    "            )\n",
    "            .add(c,grid_opts=opts.GridOpts())#grid_opts必须要明确写出来\n",
    "        )\n",
    "        timeline.add(grid_chart,time_point=i)\n",
    "\n",
    "\n",
    "for i,j in total_move_out.items():\n",
    "    total_move_out[i]/=14\n",
    "    \n",
    "print(total_move_out)\n",
    "\n",
    "timeline.add_schema(\n",
    "    orient=\"vertical\",\n",
    "    is_auto_play=True,\n",
    "    is_inverse=True,\n",
    "    play_interval=1000,\n",
    "    pos_left=\"null\",\n",
    "    pos_right=\"5\",\n",
    "    pos_top=\"20\",\n",
    "    pos_bottom=\"20\",\n",
    "    width=\"90\",\n",
    "    label_opts=opts.LabelOpts(is_show=True, color=\"#fff\"),\n",
    "    )\n",
    "timeline.render('武汉迁徙地图.html')"
   ]
  },
  {
   "cell_type": "code",
   "execution_count": 215,
   "metadata": {},
   "outputs": [
    {
     "data": {
      "text/plain": [
       "<pyecharts.components.table.Table at 0x21f471999d0>"
      ]
     },
     "execution_count": 215,
     "metadata": {},
     "output_type": "execute_result"
    }
   ],
   "source": [
    "table1_data = []\n",
    "for key,value in total_move_out.items():\n",
    "    table1_data.append([key,value])#对于字典向list转化\n",
    "    \n",
    "table1_data.sort(key = lambda x:x[1],reverse = True)\n",
    "table1_data = table1_data[:10]\n",
    "table1 = Table()\n",
    "headers = [\"省份\",\"比例\"]\n",
    "rows = []\n",
    "for data in table1_data:\n",
    "    rows.append(data)\n",
    "table1.add(headers,rows)"
   ]
  },
  {
   "cell_type": "code",
   "execution_count": 216,
   "metadata": {},
   "outputs": [
    {
     "name": "stdout",
     "output_type": "stream",
     "text": [
      "[[500000, 576, '重庆市', 0, 6, 554, 0, '2020-03-12 07:09:57'], [230000, 482, '黑龙江省', 0, 13, 440, 0, '2020-03-12 08:12:24'], [450000, 252, '广西壮族自治区', 0, 2, 241, 0, '2020-03-12 08:17:48'], [370000, 760, '山东省', 0, 6, 733, 0, '2020-03-12 08:31:51'], [430000, 1018, '湖南省', 0, 4, 998, 0, '2020-03-12 08:42:37'], [520000, 146, '贵州省', 0, 2, 137, 0, '2020-03-12 09:03:10'], [110000, 435, '北京市', 0, 8, 334, 0, '2020-03-12 09:09:39'], [420000, 67781, '湖北省', 0, 3056, 50298, 8, '2020-03-12 09:21:37'], [330000, 1215, '浙江省', 0, 1, 1197, 0, '2020-03-12 09:21:37'], [610000, 245, '陕西省', 0, 2, 232, 0, '2020-03-12 09:29:10'], [120000, 136, '天津市', 0, 3, 132, 0, '2020-03-12 09:35:37'], [810000, 129, '香港特别行政区', 0, 3, 67, 3, '2020-03-12 09:43:09'], [360000, 935, '江西省', 0, 1, 934, 0, '2020-03-12 10:08:05'], [510000, 539, '四川省', 0, 3, 495, 0, '2020-03-12 11:50:05'], [440000, 1356, '广东省', 0, 8, 1289, 0, '2020-03-12 11:50:05'], [460000, 168, '海南省', 0, 6, 160, 0, '2020-03-12 11:50:05'], [320000, 631, '江苏省', 0, 0, 629, 0, '2020-03-12 13:05:02'], [410000, 1273, '河南省', 0, 22, 1249, 0, '2020-03-12 13:05:02'], [130000, 318, '河北省', 0, 6, 308, 0, '2020-03-12 13:23:50'], [150000, 75, '内蒙古自治区', 0, 1, 71, 0, '2020-03-11 11:49:34'], [650000, 76, '新疆维吾尔自治区', 0, 3, 73, 0, '2020-03-08 13:31:02'], [210000, 125, '辽宁省', 0, 1, 111, 0, '2020-03-10 11:56:46'], [310000, 344, '上海市', 0, 3, 320, 0, '2020-03-11 11:10:35'], [540000, 1, '西藏自治区', 0, 0, 1, 0, '2020-02-23 19:19:02'], [340000, 990, '安徽省', 0, 6, 984, 0, '2020-03-08 13:19:01'], [350000, 296, '福建省', 0, 1, 295, 0, '2020-03-07 21:54:02'], [630000, 18, '青海省', 0, 0, 18, 0, '2020-02-23 19:19:02'], [640000, 75, '宁夏回族自治区', 0, 0, 72, 0, '2020-03-11 17:29:34'], [820000, 10, '澳门特别行政区', 0, 0, 10, 0, '2020-03-06 18:21:01'], [710000, 48, '台湾省', 0, 1, 17, 1, '2020-03-11 11:18:08'], [620000, 127, '甘肃省', 0, 2, 88, 2, '2020-03-11 22:26:04'], [220000, 93, '吉林省', 0, 1, 91, 0, '2020-03-09 22:18:06'], [530000, 174, '云南省', 0, 2, 170, 0, '2020-03-06 11:23:01'], [140000, 133, '山西省', 0, 0, 131, 0, '2020-03-11 07:14:25']]\n"
     ]
    }
   ],
   "source": [
    "headers = {'user_agent':'Mozilla/5.0 (Windows NT 10.0; Win64; x64) AppleWebKit/537.36 (KHTML, like Gecko) Chrome/88.0.4324.146 Safari/537.36'}\n",
    "url = 'http://ncov.myvis.cn:8002/api/getTimeData?level=1&name=china'\n",
    "cov_r =requests.get(url)\n",
    "\n",
    "cov_data_json = json.loads(r.text)\n",
    "cov_data_json.keys()\n",
    "cov_data = cov_data_json['data']['2020-03-12']#注意变量命名问题\n",
    "print(cov_data)"
   ]
  },
  {
   "cell_type": "code",
   "execution_count": 217,
   "metadata": {},
   "outputs": [
    {
     "data": {
      "text/plain": [
       "<pyecharts.components.table.Table at 0x21f4702a070>"
      ]
     },
     "execution_count": 217,
     "metadata": {},
     "output_type": "execute_result"
    }
   ],
   "source": [
    "table2_data = []\n",
    "for province in cov_data:\n",
    "    name = province[2]\n",
    "    if '黑龙江' in name:\n",
    "        name = name[0:3]\n",
    "    elif '内蒙古' in name:\n",
    "        name = name[0:3]\n",
    "    else:\n",
    "        name = name[0:2]\n",
    "    table2_data.append([name,province[1]])\n",
    "    \n",
    "\n",
    "table2_data.sort(key = lambda x:x[1],reverse = True)\n",
    "table2_data = table2_data[:10]\n",
    "\n",
    "table2 = Table()\n",
    "headers = [\"省份\",\"确诊人数\"]\n",
    "rows = []\n",
    "for data in table2_data:\n",
    "    rows.append(data)\n",
    "    \n",
    "table2.add(headers,rows)"
   ]
  },
  {
   "cell_type": "code",
   "execution_count": 218,
   "metadata": {},
   "outputs": [
    {
     "data": {
      "text/plain": [
       "'C:\\\\Users\\\\admin\\\\Desktop\\\\jupyter notebook\\\\迁徙和疫情关系.html'"
      ]
     },
     "execution_count": 218,
     "metadata": {},
     "output_type": "execute_result"
    }
   ],
   "source": [
    "page = Page(layout=Page.SimplePageLayout)\n",
    "page.add(\n",
    "    timeline,\n",
    "    table1,\n",
    "    table2,\n",
    ")\n",
    "page.render(\"迁徙和疫情关系.html\")"
   ]
  },
  {
   "cell_type": "code",
   "execution_count": null,
   "metadata": {},
   "outputs": [],
   "source": []
  }
 ],
 "metadata": {
  "kernelspec": {
   "display_name": "Python 3",
   "language": "python",
   "name": "python3"
  },
  "language_info": {
   "codemirror_mode": {
    "name": "ipython",
    "version": 3
   },
   "file_extension": ".py",
   "mimetype": "text/x-python",
   "name": "python",
   "nbconvert_exporter": "python",
   "pygments_lexer": "ipython3",
   "version": "3.8.5"
  }
 },
 "nbformat": 4,
 "nbformat_minor": 4
}
