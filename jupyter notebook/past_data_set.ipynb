{
 "cells": [
  {
   "cell_type": "code",
   "execution_count": 1,
   "metadata": {},
   "outputs": [
    {
     "name": "stdout",
     "output_type": "stream",
     "text": [
      "Index(['date', 'total_confirm', 'total_suspect', 'total_heal', 'total_dead',\n",
      "       'total_severe', 'total_input', 'total_storeConfirm', 'today_confirm',\n",
      "       'today_suspect', 'today_heal', 'today_dead', 'today_severe',\n",
      "       'today_storeConfirm', 'today_input'],\n",
      "      dtype='object')\n"
     ]
    }
   ],
   "source": [
    "import pandas as pd\n",
    "import time\n",
    "from pyecharts import options as opts\n",
    "from pyecharts.globals import ThemeType\n",
    "from pyecharts.charts import Line,Page\n",
    "\n",
    "file_name = 'past_data'+'_'+time.strftime('%Y_%m_%d',time.localtime(time.time()))+'.csv'\n",
    "china_data = pd.read_csv(file_name)\n",
    "\n",
    "print(china_data.keys())\n"
   ]
  },
  {
   "cell_type": "code",
   "execution_count": 2,
   "metadata": {},
   "outputs": [
    {
     "data": {
      "text/plain": [
       "<pyecharts.charts.basic_charts.line.Line at 0x25e188a2760>"
      ]
     },
     "execution_count": 2,
     "metadata": {},
     "output_type": "execute_result"
    }
   ],
   "source": [
    "\n",
    "\n",
    "current = china_data['total_confirm']-china_data['total_dead']-china_data['total_heal']\n",
    "\n",
    "# 1. 创建折线图对象，并使用WALDENz主题\n",
    "line1 = Line(init_opts=opts.InitOpts(theme=ThemeType.WALDEN))\n",
    "\n",
    "# 2. 添加x轴数据\n",
    "line1.add_xaxis(china_data['date'])\n",
    "\n",
    "# 3. 添加y数据\n",
    "line1.add_yaxis('现有确诊', current, label_opts=opts.LabelOpts(is_show=False), is_symbol_show=False,\n",
    "              linestyle_opts=opts.LineStyleOpts(width=2))\n",
    "\n",
    "# 4. 全局配置\n",
    "line1.set_global_opts(\n",
    "            title_opts=opts.TitleOpts(title=\"全国 现有确诊 趋势\", subtitle=\"单位: 例\"),\n",
    "            yaxis_opts=opts.AxisOpts(axisline_opts=opts.AxisLineOpts(linestyle_opts=opts.LineStyleOpts(width=2, color=\"white\")),\n",
    "                                     splitline_opts=opts.SplitLineOpts(is_show=True)\n",
    "                                    ),\n",
    "            xaxis_opts=opts.AxisOpts(type_=\"category\", axislabel_opts=opts.LabelOpts(rotate=45, font_family='Microsoft YaHei')),\n",
    "            legend_opts=opts.LegendOpts(pos_right='right', pos_top='20%', legend_icon='circle', item_width=8),\n",
    "            tooltip_opts=opts.TooltipOpts(is_show=True, trigger='axis', background_color='white', border_color='black', axis_pointer_type='line', \n",
    "                                          border_width=1,textstyle_opts=opts.TextStyleOpts(font_size=14, color='black')))\n"
   ]
  },
  {
   "cell_type": "code",
   "execution_count": 3,
   "metadata": {},
   "outputs": [
    {
     "data": {
      "text/plain": [
       "<pyecharts.charts.basic_charts.line.Line at 0x25e1b0ae370>"
      ]
     },
     "execution_count": 3,
     "metadata": {},
     "output_type": "execute_result"
    }
   ],
   "source": [
    "# 1. 创建折线图对象，并使用WALDENz主题\n",
    "line2 = Line(init_opts=opts.InitOpts(theme=ThemeType.WALDEN))\n",
    "\n",
    "# 2. 添加x轴数据\n",
    "line2.add_xaxis(china_data['date'])\n",
    "\n",
    "# 3. 添加y数据\n",
    "line2.add_yaxis('累计确诊', china_data['total_confirm'], label_opts=opts.LabelOpts(is_show=False), is_symbol_show=False,\n",
    "              linestyle_opts=opts.LineStyleOpts(width=2))\n",
    "\n",
    "# 4. 全局配置\n",
    "line2.set_global_opts(\n",
    "            title_opts=opts.TitleOpts(title=\"全国 累计确诊 趋势\", subtitle=\"单位: 例\"),\n",
    "            yaxis_opts=opts.AxisOpts(axisline_opts=opts.AxisLineOpts(linestyle_opts=opts.LineStyleOpts(width=2, color=\"white\")),\n",
    "                                     splitline_opts=opts.SplitLineOpts(is_show=True)\n",
    "                                    ),\n",
    "            xaxis_opts=opts.AxisOpts(type_=\"category\", axislabel_opts=opts.LabelOpts(rotate=45, font_family='Microsoft YaHei')),\n",
    "            legend_opts=opts.LegendOpts(pos_right='right', pos_top='20%', legend_icon='circle', item_width=8),\n",
    "            tooltip_opts=opts.TooltipOpts(is_show=True, trigger='axis', background_color='white', border_color='black', axis_pointer_type='line', \n",
    "                                          border_width=1,textstyle_opts=opts.TextStyleOpts(font_size=14, color='black')))"
   ]
  },
  {
   "cell_type": "code",
   "execution_count": 4,
   "metadata": {},
   "outputs": [
    {
     "data": {
      "text/plain": [
       "<pyecharts.charts.basic_charts.line.Line at 0x25e1b0abf10>"
      ]
     },
     "execution_count": 4,
     "metadata": {},
     "output_type": "execute_result"
    }
   ],
   "source": [
    "\n",
    "\n",
    "line3 = Line(init_opts=opts.InitOpts(theme=ThemeType.WALDEN))\n",
    "\n",
    "today_heal = china_data['total_heal'] - china_data['total_heal'].shift(1)\n",
    "    \n",
    "\n",
    "line3.add_xaxis(china_data['date'])\n",
    "line3.add_yaxis('新增治愈', today_heal, label_opts=opts.LabelOpts(is_show=False), is_symbol_show=False,\n",
    "              linestyle_opts=opts.LineStyleOpts(width=2))\n",
    "line3.add_yaxis('新增确诊', china_data['today_confirm'], label_opts=opts.LabelOpts(is_show=False), is_symbol_show=False, \n",
    "               linestyle_opts=opts.LineStyleOpts(width=2))\n",
    "line3.add_yaxis('新增死亡', china_data['today_dead'], label_opts=opts.LabelOpts(is_show=False), is_symbol_show=False, \n",
    "               linestyle_opts=opts.LineStyleOpts(width=2))\n",
    "line3.set_global_opts(\n",
    "            title_opts=opts.TitleOpts(title=\"全国 新增确诊/治愈/死亡 趋势\", subtitle=\"单位: 例\"),\n",
    "            yaxis_opts=opts.AxisOpts(axisline_opts=opts.AxisLineOpts(linestyle_opts=opts.LineStyleOpts(width=2, color=\"white\")),\n",
    "                                     splitline_opts=opts.SplitLineOpts(is_show=True)\n",
    "                                    ),\n",
    "            xaxis_opts=opts.AxisOpts(type_=\"category\", axislabel_opts=opts.LabelOpts(rotate=45, font_family='Microsoft YaHei')),\n",
    "            legend_opts=opts.LegendOpts(pos_right='right', pos_top='20%', legend_icon='circle', item_width=8),\n",
    "            tooltip_opts=opts.TooltipOpts(is_show=True, trigger='axis', background_color='white', border_color='black', axis_pointer_type='line', \n",
    "                                          border_width=1,textstyle_opts=opts.TextStyleOpts(font_size=14, color='black')))"
   ]
  },
  {
   "cell_type": "code",
   "execution_count": 5,
   "metadata": {},
   "outputs": [
    {
     "data": {
      "text/plain": [
       "<pyecharts.charts.basic_charts.line.Line at 0x25e1b0ae040>"
      ]
     },
     "execution_count": 5,
     "metadata": {},
     "output_type": "execute_result"
    }
   ],
   "source": [
    "\n",
    "line4 = Line(init_opts=opts.InitOpts(theme=ThemeType.WALDEN))\n",
    "\n",
    "local = china_data['today_confirm'] - china_data['today_input']\n",
    "\n",
    "\n",
    "line4.add_xaxis(china_data['date'])\n",
    "line4.add_yaxis('本地确诊', local, label_opts=opts.LabelOpts(is_show=False), is_symbol_show=False,\n",
    "              linestyle_opts=opts.LineStyleOpts(width=2))\n",
    "line4.add_yaxis('境外输入', china_data['today_input'], label_opts=opts.LabelOpts(is_show=False), is_symbol_show=False, \n",
    "               linestyle_opts=opts.LineStyleOpts(width=2))\n",
    "line4.set_global_opts(\n",
    "            title_opts=opts.TitleOpts(title=\"全国 本地确诊/境外输入 趋势\", subtitle=\"单位: 例\"),\n",
    "            yaxis_opts=opts.AxisOpts(axisline_opts=opts.AxisLineOpts(linestyle_opts=opts.LineStyleOpts(width=2, color=\"white\")),\n",
    "                                     splitline_opts=opts.SplitLineOpts(is_show=True)\n",
    "                                    ),\n",
    "            xaxis_opts=opts.AxisOpts(type_=\"category\", axislabel_opts=opts.LabelOpts(rotate=45, font_family='Microsoft YaHei')),\n",
    "            legend_opts=opts.LegendOpts(pos_right='right', pos_top='20%', legend_icon='circle', item_width=8),\n",
    "            tooltip_opts=opts.TooltipOpts(is_show=True, trigger='axis', background_color='white', border_color='black', axis_pointer_type='line', \n",
    "                                          border_width=1,textstyle_opts=opts.TextStyleOpts(font_size=14, color='black')))"
   ]
  },
  {
   "cell_type": "code",
   "execution_count": 6,
   "metadata": {},
   "outputs": [
    {
     "name": "stdout",
     "output_type": "stream",
     "text": [
      "Index(['date', 'total_confirm', 'total_suspect', 'total_heal', 'total_dead',\n",
      "       'total_severe', 'total_input', 'total_storeConfirm', 'today_confirm',\n",
      "       'today_suspect', 'today_heal', 'today_dead', 'today_severe',\n",
      "       'today_storeConfirm', 'today_input'],\n",
      "      dtype='object')\n"
     ]
    },
    {
     "data": {
      "text/plain": [
       "<pyecharts.charts.basic_charts.line.Line at 0x25e1b0ab940>"
      ]
     },
     "execution_count": 6,
     "metadata": {},
     "output_type": "execute_result"
    }
   ],
   "source": [
    "file_name = 'world_data'+'_'+time.strftime('%Y_%m_%d',time.localtime(time.time()))+'.csv'\n",
    "world_data = pd.read_csv(file_name)\n",
    "\n",
    "print(world_data.keys())\n",
    "\n",
    "china_data_list = china_data.values.tolist()\n",
    "world_data_list = world_data.values.tolist()\n",
    "i=0\n",
    "for date in china_data_list:\n",
    "    i+=1\n",
    "\n",
    "csv_world_data = []\n",
    "for data in world_data_list:\n",
    "    csv_world_data.append(data[8])\n",
    "    \n",
    "csv_world_data = csv_world_data[-i:]\n",
    "\n",
    "\n",
    "line5 = Line(init_opts=opts.InitOpts(theme=ThemeType.WALDEN))\n",
    "\n",
    "\n",
    "line5.add_xaxis(china_data['date'])\n",
    "line5.add_yaxis('世界新增确诊', csv_world_data, label_opts=opts.LabelOpts(is_show=False), is_symbol_show=False, \n",
    "               linestyle_opts=opts.LineStyleOpts(width=2))\n",
    "line5.add_yaxis('中国新增确诊', china_data['today_confirm'], label_opts=opts.LabelOpts(is_show=False), is_symbol_show=False,\n",
    "              linestyle_opts=opts.LineStyleOpts(width=2))\n",
    "line5.set_global_opts(\n",
    "            title_opts=opts.TitleOpts(title=\"世界/中国每日新增 趋势\", subtitle=\"单位: 例\"),\n",
    "            yaxis_opts=opts.AxisOpts(axisline_opts=opts.AxisLineOpts(linestyle_opts=opts.LineStyleOpts(width=2, color=\"white\")),\n",
    "                                     splitline_opts=opts.SplitLineOpts(is_show=True)\n",
    "                                    ),\n",
    "            xaxis_opts=opts.AxisOpts(type_=\"category\", axislabel_opts=opts.LabelOpts(rotate=45, font_family='Microsoft YaHei')),\n",
    "            legend_opts=opts.LegendOpts(pos_right='right', pos_top='20%', legend_icon='circle', item_width=8),\n",
    "            tooltip_opts=opts.TooltipOpts(is_show=True, trigger='axis', background_color='white', border_color='black', axis_pointer_type='line', \n",
    "                                          border_width=1,textstyle_opts=opts.TextStyleOpts(font_size=14, color='black')))"
   ]
  },
  {
   "cell_type": "code",
   "execution_count": 7,
   "metadata": {},
   "outputs": [
    {
     "data": {
      "text/plain": [
       "'C:\\\\Users\\\\admin\\\\Desktop\\\\jupyter notebook\\\\数据图.html'"
      ]
     },
     "execution_count": 7,
     "metadata": {},
     "output_type": "execute_result"
    }
   ],
   "source": [
    "page = Page(layout=Page.SimplePageLayout)\n",
    "page.add(\n",
    "    line1,\n",
    "    line2,\n",
    "    line3,\n",
    "    line4,\n",
    "    line5,\n",
    ")\n",
    "page.render(\"数据图.html\")"
   ]
  }
 ],
 "metadata": {
  "kernelspec": {
   "display_name": "Python 3",
   "language": "python",
   "name": "python3"
  },
  "language_info": {
   "codemirror_mode": {
    "name": "ipython",
    "version": 3
   },
   "file_extension": ".py",
   "mimetype": "text/x-python",
   "name": "python",
   "nbconvert_exporter": "python",
   "pygments_lexer": "ipython3",
   "version": "3.8.5"
  }
 },
 "nbformat": 4,
 "nbformat_minor": 4
}
