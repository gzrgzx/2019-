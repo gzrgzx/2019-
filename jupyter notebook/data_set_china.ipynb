{
 "cells": [
  {
   "cell_type": "code",
   "execution_count": 1,
   "metadata": {},
   "outputs": [
    {
     "name": "stdout",
     "output_type": "stream",
     "text": [
      "Index(['id', 'lastUpdateTime', 'name', 'total_confirm', 'total_suspect',\n",
      "       'total_heal', 'total_dead', 'total_severe', 'total_input',\n",
      "       'total_newConfirm', 'total_newDead', 'total_newHeal', 'today_confirm',\n",
      "       'today_suspect', 'today_heal', 'today_dead', 'today_severe',\n",
      "       'today_storeConfirm'],\n",
      "      dtype='object')\n"
     ]
    }
   ],
   "source": [
    "import pandas as pd \n",
    "import time\n",
    "import numpy as np\n",
    "\n",
    "file_name = 'today_province'+'_'+time.strftime('%Y_%m_%d',time.localtime(time.time()))+'.csv'\n",
    "china_data = pd.read_csv(file_name)\n",
    "\n",
    "print(china_data.keys())\n"
   ]
  },
  {
   "cell_type": "code",
   "execution_count": 2,
   "metadata": {},
   "outputs": [],
   "source": [
    "import pyecharts\n",
    "# 调整配置项\n",
    "import pyecharts.options as opts\n",
    "# Map类用于绘制地图\n",
    "from pyecharts.charts import Map,Grid,Page\n",
    "from pyecharts.components import Table\n",
    "from pyecharts.options import ComponentTitleOpts\n"
   ]
  },
  {
   "cell_type": "code",
   "execution_count": 3,
   "metadata": {},
   "outputs": [
    {
     "data": {
      "text/html": [
       "<div>\n",
       "<style scoped>\n",
       "    .dataframe tbody tr th:only-of-type {\n",
       "        vertical-align: middle;\n",
       "    }\n",
       "\n",
       "    .dataframe tbody tr th {\n",
       "        vertical-align: top;\n",
       "    }\n",
       "\n",
       "    .dataframe thead th {\n",
       "        text-align: right;\n",
       "    }\n",
       "</style>\n",
       "<table border=\"1\" class=\"dataframe\">\n",
       "  <thead>\n",
       "    <tr style=\"text-align: right;\">\n",
       "      <th></th>\n",
       "      <th>id</th>\n",
       "      <th>lastUpdateTime</th>\n",
       "      <th>name</th>\n",
       "      <th>total_confirm</th>\n",
       "      <th>total_suspect</th>\n",
       "      <th>total_heal</th>\n",
       "      <th>total_dead</th>\n",
       "      <th>total_severe</th>\n",
       "      <th>total_input</th>\n",
       "      <th>total_newConfirm</th>\n",
       "      <th>total_newDead</th>\n",
       "      <th>total_newHeal</th>\n",
       "      <th>today_confirm</th>\n",
       "      <th>today_suspect</th>\n",
       "      <th>today_heal</th>\n",
       "      <th>today_dead</th>\n",
       "      <th>today_severe</th>\n",
       "      <th>today_storeConfirm</th>\n",
       "      <th>existing_confirm</th>\n",
       "    </tr>\n",
       "  </thead>\n",
       "  <tbody>\n",
       "    <tr>\n",
       "      <th>0</th>\n",
       "      <td>420000</td>\n",
       "      <td>2021-06-04 00:01:23</td>\n",
       "      <td>湖北</td>\n",
       "      <td>68159</td>\n",
       "      <td>0</td>\n",
       "      <td>63646</td>\n",
       "      <td>4512</td>\n",
       "      <td>0</td>\n",
       "      <td>0</td>\n",
       "      <td>NaN</td>\n",
       "      <td>NaN</td>\n",
       "      <td>NaN</td>\n",
       "      <td>0</td>\n",
       "      <td>NaN</td>\n",
       "      <td>0</td>\n",
       "      <td>0</td>\n",
       "      <td>NaN</td>\n",
       "      <td>0</td>\n",
       "      <td>1</td>\n",
       "    </tr>\n",
       "    <tr>\n",
       "      <th>1</th>\n",
       "      <td>810000</td>\n",
       "      <td>2021-06-04 00:01:23</td>\n",
       "      <td>香港</td>\n",
       "      <td>11849</td>\n",
       "      <td>0</td>\n",
       "      <td>11576</td>\n",
       "      <td>210</td>\n",
       "      <td>0</td>\n",
       "      <td>0</td>\n",
       "      <td>NaN</td>\n",
       "      <td>NaN</td>\n",
       "      <td>NaN</td>\n",
       "      <td>0</td>\n",
       "      <td>NaN</td>\n",
       "      <td>1</td>\n",
       "      <td>0</td>\n",
       "      <td>NaN</td>\n",
       "      <td>0</td>\n",
       "      <td>63</td>\n",
       "    </tr>\n",
       "    <tr>\n",
       "      <th>2</th>\n",
       "      <td>700000</td>\n",
       "      <td>2021-06-04 00:01:22</td>\n",
       "      <td>台湾</td>\n",
       "      <td>9974</td>\n",
       "      <td>0</td>\n",
       "      <td>1133</td>\n",
       "      <td>166</td>\n",
       "      <td>0</td>\n",
       "      <td>0</td>\n",
       "      <td>NaN</td>\n",
       "      <td>NaN</td>\n",
       "      <td>NaN</td>\n",
       "      <td>1132</td>\n",
       "      <td>NaN</td>\n",
       "      <td>0</td>\n",
       "      <td>29</td>\n",
       "      <td>NaN</td>\n",
       "      <td>1103</td>\n",
       "      <td>8675</td>\n",
       "    </tr>\n",
       "    <tr>\n",
       "      <th>3</th>\n",
       "      <td>440000</td>\n",
       "      <td>2021-06-04 00:01:23</td>\n",
       "      <td>广东</td>\n",
       "      <td>2498</td>\n",
       "      <td>0</td>\n",
       "      <td>2388</td>\n",
       "      <td>8</td>\n",
       "      <td>0</td>\n",
       "      <td>0</td>\n",
       "      <td>NaN</td>\n",
       "      <td>NaN</td>\n",
       "      <td>NaN</td>\n",
       "      <td>17</td>\n",
       "      <td>NaN</td>\n",
       "      <td>0</td>\n",
       "      <td>0</td>\n",
       "      <td>NaN</td>\n",
       "      <td>17</td>\n",
       "      <td>102</td>\n",
       "    </tr>\n",
       "    <tr>\n",
       "      <th>4</th>\n",
       "      <td>310000</td>\n",
       "      <td>2021-06-04 00:01:22</td>\n",
       "      <td>上海</td>\n",
       "      <td>2111</td>\n",
       "      <td>0</td>\n",
       "      <td>2033</td>\n",
       "      <td>7</td>\n",
       "      <td>0</td>\n",
       "      <td>0</td>\n",
       "      <td>NaN</td>\n",
       "      <td>NaN</td>\n",
       "      <td>NaN</td>\n",
       "      <td>3</td>\n",
       "      <td>NaN</td>\n",
       "      <td>2</td>\n",
       "      <td>0</td>\n",
       "      <td>NaN</td>\n",
       "      <td>1</td>\n",
       "      <td>71</td>\n",
       "    </tr>\n",
       "  </tbody>\n",
       "</table>\n",
       "</div>"
      ],
      "text/plain": [
       "       id       lastUpdateTime name  total_confirm  total_suspect  total_heal  \\\n",
       "0  420000  2021-06-04 00:01:23   湖北          68159              0       63646   \n",
       "1  810000  2021-06-04 00:01:23   香港          11849              0       11576   \n",
       "2  700000  2021-06-04 00:01:22   台湾           9974              0        1133   \n",
       "3  440000  2021-06-04 00:01:23   广东           2498              0        2388   \n",
       "4  310000  2021-06-04 00:01:22   上海           2111              0        2033   \n",
       "\n",
       "   total_dead  total_severe  total_input  total_newConfirm  total_newDead  \\\n",
       "0        4512             0            0               NaN            NaN   \n",
       "1         210             0            0               NaN            NaN   \n",
       "2         166             0            0               NaN            NaN   \n",
       "3           8             0            0               NaN            NaN   \n",
       "4           7             0            0               NaN            NaN   \n",
       "\n",
       "   total_newHeal  today_confirm  today_suspect  today_heal  today_dead  \\\n",
       "0            NaN              0            NaN           0           0   \n",
       "1            NaN              0            NaN           1           0   \n",
       "2            NaN           1132            NaN           0          29   \n",
       "3            NaN             17            NaN           0           0   \n",
       "4            NaN              3            NaN           2           0   \n",
       "\n",
       "   today_severe  today_storeConfirm  existing_confirm  \n",
       "0           NaN                   0                 1  \n",
       "1           NaN                   0                63  \n",
       "2           NaN                1103              8675  \n",
       "3           NaN                  17               102  \n",
       "4           NaN                   1                71  "
      ]
     },
     "execution_count": 3,
     "metadata": {},
     "output_type": "execute_result"
    }
   ],
   "source": [
    "china_data['existing_confirm'] = china_data['total_confirm'] - china_data['total_heal'] - china_data['total_dead']\n",
    "\n",
    "china_data.head()#dataFrame有head()函数"
   ]
  },
  {
   "cell_type": "code",
   "execution_count": 4,
   "metadata": {},
   "outputs": [
    {
     "data": {
      "text/plain": [
       "<pyecharts.components.table.Table at 0x275036e6220>"
      ]
     },
     "execution_count": 4,
     "metadata": {},
     "output_type": "execute_result"
    }
   ],
   "source": [
    "china_today_existingconfirm = china_data['existing_confirm'].sum()\n",
    "china_today_confirm = china_data['today_confirm'].sum()\n",
    "china_totalconfirm = china_data['total_confirm'].sum()\n",
    "china_totalheal = china_data['total_heal'].sum()\n",
    "china_totaldead = china_data['total_dead'].sum()\n",
    "\n",
    "table3 = Table()\n",
    "headers = [\"现存确诊\",\"累计确诊\",\"今日新增\",\"累计治愈\",\"累计死亡\"]\n",
    "rows=[[china_today_existingconfirm,china_totalconfirm,china_today_confirm,china_totalheal,china_totaldead]]#rows是序列类型，[[]]\n",
    "\n",
    "table3.add(headers,rows)"
   ]
  },
  {
   "cell_type": "code",
   "execution_count": 5,
   "metadata": {},
   "outputs": [
    {
     "data": {
      "text/plain": [
       "[['湖北', 1], ['香港', 63], ['台湾', 8675], ['广东', 102], ['上海', 71]]"
      ]
     },
     "execution_count": 5,
     "metadata": {},
     "output_type": "execute_result"
    }
   ],
   "source": [
    "map_data = china_data[['name','existing_confirm']].values.tolist()\n",
    "map_data[:5]"
   ]
  },
  {
   "cell_type": "code",
   "execution_count": 6,
   "metadata": {},
   "outputs": [],
   "source": [
    "table1_data = china_data[['name','existing_confirm','total_confirm','today_confirm','total_heal','total_dead']].values.tolist()#values不可缺少\n",
    "table1_data.sort(key = lambda x:x[1],reverse = True)\n",
    "table1_data = table1_data[:10]"
   ]
  },
  {
   "cell_type": "code",
   "execution_count": 7,
   "metadata": {},
   "outputs": [
    {
     "name": "stdout",
     "output_type": "stream",
     "text": [
      "8675\n"
     ]
    }
   ],
   "source": [
    "table1 = Table()\n",
    "headers = [\"省份\",\"现存确诊\",\"累计确诊\",\"今日新增\",\"累计治愈\",\"累计死亡\"]\n",
    "rows = []\n",
    "for data in table1_data:\n",
    "    rows.append(data)\n",
    "table1.add(headers,rows)\n",
    "\n",
    "#list1 = map_data[1],此时的map_data[1]返回的时第二个数据，而不是第二列所有元素\n",
    "maxnum = 0\n",
    "for data in map_data:\n",
    "    if data[1]>maxnum:\n",
    "        maxnum = data[1]\n",
    "print(maxnum)"
   ]
  },
  {
   "cell_type": "code",
   "execution_count": 8,
   "metadata": {},
   "outputs": [
    {
     "data": {
      "text/plain": [
       "<pyecharts.charts.basic_charts.map.Map at 0x275036fe040>"
      ]
     },
     "execution_count": 8,
     "metadata": {},
     "output_type": "execute_result"
    }
   ],
   "source": [
    "map1= Map().add(series_name = \"现存确诊人数\", # 设置提示框标签\n",
    "                 data_pair = map_data, # 输入数据\n",
    "                 maptype = \"china\", # 设置地图类型为世界地图\n",
    "                 is_map_symbol_show = False # 不显示标记点\n",
    "                ) \n",
    "\n",
    "map1.set_series_opts(label_opts=opts.LabelOpts(is_show=False))  # 不显示国家（标签）名称 \n",
    "map1.set_global_opts(title_opts = opts.TitleOpts(title=\" 中国现存确诊人数地图\"), # 设置图标题\n",
    "                     # 设置视觉映射配置项\n",
    "                     visualmap_opts = opts.VisualMapOpts(pieces=[ # 自定义分组的分点和颜色\n",
    "                                                               {\"min\": 1000,\"color\":\"#800000\"}, # 栗色\n",
    "                                                               {\"min\": 100, \"max\": 1000, \"color\":\"#B22222\"}, # 耐火砖\n",
    "                                                               {\"min\": 11, \"max\": 99,\"color\":\"#CD5C5C\"}, # 印度红\n",
    "                                                               {\"min\": 1, \"max\": 10, \"color\":\"#BC8F8F\"}, # 玫瑰棕色\n",
    "                                                               {\"max\": 1, \"color\":\"#FFE4E1\"}, # 薄雾玫瑰\n",
    "                                                              ],\n",
    "                     is_piecewise = True\n",
    "                         #is_calculable=True,\n",
    "                #dimension=0,\n",
    "                #range_text=[\"High\", \"Low\"],\n",
    "                #range_color=[\"lightskyblue\", \"yellow\", \"orangered\"],\n",
    "                #textstyle_opts=opts.TextStyleOpts(color=\"#ddd\"),\n",
    "                #min_=0,\n",
    "                #max_=maxnum,\n",
    "                                                        ))  # 显示分段式图例\n"
   ]
  },
  {
   "cell_type": "code",
   "execution_count": 9,
   "metadata": {},
   "outputs": [
    {
     "data": {
      "text/plain": [
       "[['湖北', 68159],\n",
       " ['香港', 11849],\n",
       " ['台湾', 9974],\n",
       " ['广东', 2498],\n",
       " ['上海', 2111],\n",
       " ['黑龙江', 1612],\n",
       " ['浙江', 1364],\n",
       " ['河北', 1317],\n",
       " ['河南', 1315],\n",
       " ['北京', 1061]]"
      ]
     },
     "execution_count": 9,
     "metadata": {},
     "output_type": "execute_result"
    }
   ],
   "source": [
    "map2_data = china_data[['name','total_confirm']].values.tolist()\n",
    "map2_data[:10]"
   ]
  },
  {
   "cell_type": "code",
   "execution_count": 10,
   "metadata": {},
   "outputs": [
    {
     "data": {
      "text/plain": [
       "<pyecharts.charts.basic_charts.map.Map at 0x275036e6ac0>"
      ]
     },
     "execution_count": 10,
     "metadata": {},
     "output_type": "execute_result"
    }
   ],
   "source": [
    "map2 = Map().add(series_name = \"累计确诊人数\", # 设置提示框标签\n",
    "                 data_pair = map2_data, # 输入数据\n",
    "                 maptype = \"china\", # 设置地图类型为世界地图\n",
    "                 is_map_symbol_show = False # 不显示标记点\n",
    "                ) \n",
    "\n",
    "map2.set_series_opts(label_opts=opts.LabelOpts(is_show=False))  # 不显示国家（标签）名称 \n",
    "map2.set_global_opts(title_opts = opts.TitleOpts(title=\" 中国累计确诊人数地图\"), # 设置图标题\n",
    "                     # 设置视觉映射配置项\n",
    "                     visualmap_opts = opts.VisualMapOpts(pieces=[ # 自定义分组的分点和颜色\n",
    "                                                               {\"min\": 10000,\"color\":\"#800000\"}, # 栗色\n",
    "                                                               {\"min\": 5000, \"max\": 9999, \"color\":\"#B22222\"}, # 耐火砖\n",
    "                                                               {\"min\": 999, \"max\": 4999,\"color\":\"#CD5C5C\"}, # 印度红\n",
    "                                                               {\"min\": 100, \"max\": 999, \"color\":\"#BC8F8F\"}, # 玫瑰棕色\n",
    "                                                               {\"max\": 99, \"color\":\"#FFE4E1\"}, # 薄雾玫瑰\n",
    "                                                              ],\n",
    "                     is_piecewise = True))  # 显示分段式图例\n"
   ]
  },
  {
   "cell_type": "code",
   "execution_count": 11,
   "metadata": {},
   "outputs": [],
   "source": [
    "table2_data = china_data[['name','total_confirm','existing_confirm','today_confirm','total_heal','total_dead']].values.tolist()#values不可缺少\n",
    "table2_data.sort(key = lambda x:x[1],reverse = True)\n",
    "table2_data = table2_data[:10]"
   ]
  },
  {
   "cell_type": "code",
   "execution_count": 12,
   "metadata": {},
   "outputs": [
    {
     "data": {
      "text/plain": [
       "<pyecharts.components.table.Table at 0x275036fee20>"
      ]
     },
     "execution_count": 12,
     "metadata": {},
     "output_type": "execute_result"
    }
   ],
   "source": [
    "table2 = Table()\n",
    "headers = [\"省份\",\"累计确诊\",\"现存确诊\",\"今日新增\",\"累计治愈\",\"累计死亡\"]\n",
    "rows = []\n",
    "for data in table2_data:\n",
    "    rows.append(data)\n",
    "table2.add(headers,rows)"
   ]
  },
  {
   "cell_type": "code",
   "execution_count": 13,
   "metadata": {},
   "outputs": [
    {
     "data": {
      "text/plain": [
       "'C:\\\\Users\\\\admin\\\\Desktop\\\\jupyter notebook\\\\中国疫情地图.html'"
      ]
     },
     "execution_count": 13,
     "metadata": {},
     "output_type": "execute_result"
    }
   ],
   "source": [
    "page = Page(layout=Page.SimplePageLayout)\n",
    "page.add(\n",
    "    map1,\n",
    "    table3,\n",
    "    table1,\n",
    "    map2,\n",
    "    table2,\n",
    ")\n",
    "page.render(\"中国疫情地图.html\")"
   ]
  },
  {
   "cell_type": "code",
   "execution_count": null,
   "metadata": {},
   "outputs": [],
   "source": []
  }
 ],
 "metadata": {
  "kernelspec": {
   "display_name": "Python 3",
   "language": "python",
   "name": "python3"
  },
  "language_info": {
   "codemirror_mode": {
    "name": "ipython",
    "version": 3
   },
   "file_extension": ".py",
   "mimetype": "text/x-python",
   "name": "python",
   "nbconvert_exporter": "python",
   "pygments_lexer": "ipython3",
   "version": "3.8.5"
  }
 },
 "nbformat": 4,
 "nbformat_minor": 4
}
