{
 "cells": [
  {
   "cell_type": "code",
   "execution_count": 1,
   "metadata": {},
   "outputs": [],
   "source": [
    "import pandas as pd\n",
    "import requests\n",
    "from typing import List\n",
    "import pyecharts.options as opts\n",
    "from pyecharts.globals import ThemeType\n",
    "from pyecharts.commons.utils import JsCode\n",
    "from pyecharts.charts import Timeline, Grid, Bar, Map, Pie, Line"
   ]
  },
  {
   "cell_type": "code",
   "execution_count": 2,
   "metadata": {},
   "outputs": [],
   "source": [
    "headers = {'user_agent':'Mozilla/5.0 (Windows NT 10.0; Win64; x64) AppleWebKit/537.36 (KHTML, like Gecko) Chrome/88.0.4324.146 Safari/537.36'}\n",
    "url = 'http://ncov.myvis.cn:8002/api/getTimeData?level=1&name=china'\n",
    "r =requests.get(url)"
   ]
  },
  {
   "cell_type": "code",
   "execution_count": 3,
   "metadata": {},
   "outputs": [
    {
     "data": {
      "text/plain": [
       "dict_keys(['error', 'code', 'message', 'data'])"
      ]
     },
     "execution_count": 3,
     "metadata": {},
     "output_type": "execute_result"
    }
   ],
   "source": [
    "import json\n",
    "data_json = json.loads(r.text)\n",
    "data_json.keys()"
   ]
  },
  {
   "cell_type": "code",
   "execution_count": 4,
   "metadata": {},
   "outputs": [
    {
     "data": {
      "text/plain": [
       "dict_keys(['2020-01-22', '2020-01-23', '2020-01-24', '2020-01-25', '2020-01-26', '2020-01-27', '2020-01-28', '2020-01-29', '2020-01-30', '2020-01-31', '2020-02-01', '2020-02-02', '2020-02-03', '2020-02-04', '2020-02-05', '2020-02-06', '2020-02-07', '2020-02-08', '2020-02-09', '2020-02-10', '2020-02-11', '2020-02-12', '2020-02-13', '2020-02-14', '2020-02-15', '2020-02-16', '2020-02-17', '2020-02-18', '2020-02-19', '2020-02-20', '2020-02-21', '2020-02-22', '2020-02-23', '2020-02-24', '2020-02-25', '2020-02-26', '2020-02-27', '2020-02-28', '2020-02-29', '2020-03-01', '2020-03-02', '2020-03-03', '2020-03-04', '2020-03-05', '2020-03-06', '2020-03-07', '2020-03-08', '2020-03-09', '2020-03-10', '2020-03-11', '2020-03-12'])"
      ]
     },
     "execution_count": 4,
     "metadata": {},
     "output_type": "execute_result"
    }
   ],
   "source": [
    "data = data_json['data']\n",
    "data.keys()"
   ]
  },
  {
   "cell_type": "code",
   "execution_count": null,
   "metadata": {},
   "outputs": [],
   "source": []
  },
  {
   "cell_type": "code",
   "execution_count": 5,
   "metadata": {},
   "outputs": [],
   "source": [
    "maxNum = 1500\n",
    "minNum = 0\n",
    "time_list =[]\n",
    "for d in data:\n",
    "    time_list.append(d)\n",
    "total_num = []\n",
    "for d in data:\n",
    "    sum = 0\n",
    "    for province in data[d]:\n",
    "         sum += province[1]\n",
    "    total_num.append(sum)\n",
    "        \n",
    "def get_year_chart(time):\n",
    "    map_data = [[[x[2], x[1]] for x in data[d]] for d in data if d == time][0]\n",
    "    for d in map_data:\n",
    "        name = d[0]\n",
    "        if '黑龙江' in name:\n",
    "            name = name[0:3]\n",
    "        elif '内蒙古' in name:\n",
    "            name = name[0:3]\n",
    "        else:\n",
    "            name = name[0:2]\n",
    "        d[0] = name\n",
    "    map_data.sort(key = lambda x:x[1],reverse = True)\n",
    "    min_data, max_data = (minNum, maxNum)\n",
    "    data_mark: List = []\n",
    "    i=0\n",
    "    for d in data:\n",
    "        if time == d:\n",
    "            data_mark.append(total_num[i])\n",
    "        else:\n",
    "            data_mark.append(\"\")\n",
    "        i=i+1\n",
    "        \n",
    "    map_chart = (\n",
    "        Map()\n",
    "        .add(\n",
    "            series_name=\"确诊人数\",\n",
    "            data_pair=map_data,\n",
    "            zoom=1,\n",
    "            center=[119.5, 34.5],\n",
    "            is_map_symbol_show=False,\n",
    "            itemstyle_opts={\n",
    "                \"normal\": {\"areaColor\": \"#323c48\", \"borderColor\": \"#404a59\"},\n",
    "                \"emphasis\": {\n",
    "                    \"label\": {\"show\": Timeline},\n",
    "                    \"areaColor\": \"rgba(255,255,255, 0.5)\",\n",
    "                },\n",
    "            },\n",
    "        )\n",
    "        .set_global_opts(\n",
    "            title_opts=opts.TitleOpts(\n",
    "                title=\"\" + str(time) + \"全国疫情确诊情况\",\n",
    "                subtitle=\"\",\n",
    "                pos_left=\"200\",\n",
    "                pos_top=\"top\",\n",
    "                title_textstyle_opts=opts.TextStyleOpts(\n",
    "                    font_size=25, color=\"rgba(255,255,255, 0.9)\"\n",
    "                ),\n",
    "            ),\n",
    "            tooltip_opts=opts.TooltipOpts(\n",
    "                is_show=True,\n",
    "            ),\n",
    "            visualmap_opts=opts.VisualMapOpts(\n",
    "                is_calculable=True,\n",
    "                dimension=0,\n",
    "                pos_left=\"30\",\n",
    "                pos_top=\"top\",\n",
    "                range_text=[\"High\", \"Low\"],\n",
    "                range_color=[\"lightskyblue\", \"yellow\", \"orangered\"],\n",
    "                textstyle_opts=opts.TextStyleOpts(color=\"#ddd\"),\n",
    "                min_=0,\n",
    "                max_=1500,\n",
    "            ),\n",
    "        )\n",
    "    )\n",
    "    \n",
    "    line_chart = (\n",
    "        Line()\n",
    "        .add_xaxis(time_list)\n",
    "        .add_yaxis(\"\", total_num)\n",
    "        .add_yaxis(\n",
    "            \"\",\n",
    "            data_mark,\n",
    "            markpoint_opts=opts.MarkPointOpts(data=[opts.MarkPointItem(type_=\"max\")]),\n",
    "        )\n",
    "        .set_series_opts(label_opts=opts.LabelOpts(is_show=False))\n",
    "        .set_global_opts(\n",
    "            title_opts=opts.TitleOpts(\n",
    "                title=\"全国疫情确诊人数总数（2020.01.22-2020.03.12)：\", pos_left=\"70%\", pos_top=\"5%\"\n",
    "            )\n",
    "        )\n",
    "    )\n",
    "    bar_x_data = [x[0] for x in map_data]\n",
    "    bar_y_data = [{\"name\": x[0], \"value\": x[1]} for x in map_data]\n",
    "    bar = (\n",
    "        Bar()\n",
    "        .add_xaxis(xaxis_data=bar_x_data)\n",
    "        .add_yaxis(\n",
    "            series_name=\"\",\n",
    "            y_axis=bar_y_data,\n",
    "            label_opts=opts.LabelOpts(\n",
    "                is_show=True, position=\"right\", formatter=\"{b} : {c}\"\n",
    "            ),\n",
    "        )\n",
    "        .reversal_axis()\n",
    "        .set_global_opts(\n",
    "            xaxis_opts=opts.AxisOpts(\n",
    "                max_=maxNum, axislabel_opts=opts.LabelOpts(is_show=False)\n",
    "            ),\n",
    "            yaxis_opts=opts.AxisOpts(axislabel_opts=opts.LabelOpts(is_show=False)),\n",
    "            tooltip_opts=opts.TooltipOpts(is_show=False),\n",
    "            visualmap_opts=opts.VisualMapOpts(\n",
    "                is_calculable=True,\n",
    "                dimension=0,\n",
    "                pos_left=\"10\",\n",
    "                pos_top=\"top\",\n",
    "                range_text=[\"High\", \"Low\"],\n",
    "                range_color=[\"lightskyblue\", \"yellow\", \"orangered\"],\n",
    "                textstyle_opts=opts.TextStyleOpts(color=\"#ddd\"),\n",
    "                min_=min_data,\n",
    "                max_=max_data,\n",
    "            ),\n",
    "        )\n",
    "    )\n",
    "    pie_data = [[x[0], x[1]] for x in map_data]\n",
    "    pie = (\n",
    "        Pie()\n",
    "        .add(\n",
    "            series_name=\"\",\n",
    "            data_pair=pie_data,\n",
    "            radius=[\"15%\", \"35%\"],\n",
    "            center=[\"80%\", \"82%\"],\n",
    "            itemstyle_opts=opts.ItemStyleOpts(\n",
    "                border_width=1, border_color=\"rgba(0,0,0,0.3)\"\n",
    "            ),\n",
    "        )\n",
    "        .set_global_opts(\n",
    "            tooltip_opts=opts.TooltipOpts(is_show=True, formatter=\"{b} {d}%\"),\n",
    "            legend_opts=opts.LegendOpts(is_show=False),\n",
    "        )\n",
    "    )\n",
    "    grid_chart = (\n",
    "        Grid()\n",
    "        .add(\n",
    "            bar,\n",
    "            grid_opts=opts.GridOpts(\n",
    "                pos_left=\"10\", pos_right=\"45%\", pos_top=\"50%\", pos_bottom=\"5\"\n",
    "            ),\n",
    "        )\n",
    "        .add(\n",
    "            line_chart,\n",
    "            grid_opts=opts.GridOpts(\n",
    "                pos_left=\"65%\", pos_right=\"80\", pos_top=\"10%\", pos_bottom=\"50%\"\n",
    "            ),\n",
    "        )\n",
    "        .add(pie, grid_opts=opts.GridOpts(pos_left=\"45%\", pos_top=\"60%\"))\n",
    "        .add(map_chart, grid_opts=opts.GridOpts(pos_right=\"60%\"))\n",
    "    )\n",
    "\n",
    "    return grid_chart\n",
    "    \n",
    "    "
   ]
  },
  {
   "cell_type": "code",
   "execution_count": 6,
   "metadata": {},
   "outputs": [
    {
     "data": {
      "text/plain": [
       "'C:\\\\Users\\\\admin\\\\Desktop\\\\jupyter notebook\\\\中国疫情.html'"
      ]
     },
     "execution_count": 6,
     "metadata": {},
     "output_type": "execute_result"
    }
   ],
   "source": [
    "\n",
    "    timeline = Timeline(\n",
    "        init_opts=opts.InitOpts(width=\"1800px\", height=\"900px\",theme=ThemeType.DARK)\n",
    "    )\n",
    "    for t in data:\n",
    "        g = get_year_chart(t)\n",
    "        timeline.add(g, time_point=t)\n",
    "\n",
    "    timeline.add_schema(\n",
    "        orient=\"vertical\",\n",
    "        is_auto_play=True,\n",
    "        is_inverse=True,\n",
    "        play_interval=1000,\n",
    "        pos_left=\"null\",\n",
    "        pos_right=\"5\",\n",
    "        pos_top=\"20\",\n",
    "        pos_bottom=\"20\",\n",
    "        width=\"90\",\n",
    "        label_opts=opts.LabelOpts(is_show=True, color=\"#fff\"),\n",
    "    )\n",
    "\n",
    "    timeline.render(\"中国疫情.html\")"
   ]
  },
  {
   "cell_type": "code",
   "execution_count": null,
   "metadata": {},
   "outputs": [],
   "source": []
  }
 ],
 "metadata": {
  "kernelspec": {
   "display_name": "Python 3",
   "language": "python",
   "name": "python3"
  },
  "language_info": {
   "codemirror_mode": {
    "name": "ipython",
    "version": 3
   },
   "file_extension": ".py",
   "mimetype": "text/x-python",
   "name": "python",
   "nbconvert_exporter": "python",
   "pygments_lexer": "ipython3",
   "version": "3.8.5"
  }
 },
 "nbformat": 4,
 "nbformat_minor": 4
}
